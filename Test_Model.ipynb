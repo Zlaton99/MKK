{
  "nbformat": 4,
  "nbformat_minor": 5,
  "metadata": {
    "kernelspec": {
      "display_name": "Python 3 (ipykernel)",
      "language": "python",
      "name": "python3"
    },
    "language_info": {
      "codemirror_mode": {
        "name": "ipython",
        "version": 3
      },
      "file_extension": ".py",
      "mimetype": "text/x-python",
      "name": "python",
      "nbconvert_exporter": "python",
      "pygments_lexer": "ipython3",
      "version": "3.8.8"
    },
    "colab": {
      "name": "Test_Model.ipynb",
      "provenance": [],
      "collapsed_sections": [],
      "include_colab_link": true
    }
  },
  "cells": [
    {
      "cell_type": "markdown",
      "metadata": {
        "id": "view-in-github",
        "colab_type": "text"
      },
      "source": [
        "<a href=\"https://colab.research.google.com/github/Zlaton99/MKK/blob/main/Test_Model.ipynb\" target=\"_parent\"><img src=\"https://colab.research.google.com/assets/colab-badge.svg\" alt=\"Open In Colab\"/></a>"
      ]
    },
    {
      "cell_type": "code",
      "metadata": {
        "id": "09dbf65a",
        "colab": {
          "base_uri": "https://localhost:8080/"
        },
        "outputId": "b17f5bcd-7d16-48ce-9ddd-df4d306f3d21"
      },
      "source": [
        "import pandas as pd\n",
        "import numpy as np\n",
        "import tensorflow as tf\n",
        "from tensorflow.keras.preprocessing.text import Tokenizer\n",
        "from tensorflow.keras.preprocessing.sequence import pad_sequences\n",
        "import re\n",
        "!pip install streamlit\n"
      ],
      "id": "09dbf65a",
      "execution_count": 43,
      "outputs": [
        {
          "output_type": "stream",
          "name": "stdout",
          "text": [
            "Requirement already satisfied: streamlit in /usr/local/lib/python3.7/dist-packages (1.2.0)\n",
            "Requirement already satisfied: click<8.0,>=7.0 in /usr/local/lib/python3.7/dist-packages (from streamlit) (7.1.2)\n",
            "Requirement already satisfied: base58 in /usr/local/lib/python3.7/dist-packages (from streamlit) (2.1.1)\n",
            "Requirement already satisfied: pympler>=0.9 in /usr/local/lib/python3.7/dist-packages (from streamlit) (0.9)\n",
            "Requirement already satisfied: pillow>=6.2.0 in /usr/local/lib/python3.7/dist-packages (from streamlit) (7.1.2)\n",
            "Requirement already satisfied: python-dateutil in /usr/local/lib/python3.7/dist-packages (from streamlit) (2.8.2)\n",
            "Requirement already satisfied: altair>=3.2.0 in /usr/local/lib/python3.7/dist-packages (from streamlit) (4.1.0)\n",
            "Requirement already satisfied: protobuf!=3.11,>=3.6.0 in /usr/local/lib/python3.7/dist-packages (from streamlit) (3.17.3)\n",
            "Requirement already satisfied: gitpython!=3.1.19 in /usr/local/lib/python3.7/dist-packages (from streamlit) (3.1.24)\n",
            "Requirement already satisfied: validators in /usr/local/lib/python3.7/dist-packages (from streamlit) (0.18.2)\n",
            "Requirement already satisfied: tzlocal in /usr/local/lib/python3.7/dist-packages (from streamlit) (1.5.1)\n",
            "Requirement already satisfied: cachetools>=4.0 in /usr/local/lib/python3.7/dist-packages (from streamlit) (4.2.4)\n",
            "Requirement already satisfied: watchdog in /usr/local/lib/python3.7/dist-packages (from streamlit) (2.1.6)\n",
            "Requirement already satisfied: toml in /usr/local/lib/python3.7/dist-packages (from streamlit) (0.10.2)\n",
            "Requirement already satisfied: pandas>=0.21.0 in /usr/local/lib/python3.7/dist-packages (from streamlit) (1.1.5)\n",
            "Requirement already satisfied: blinker in /usr/local/lib/python3.7/dist-packages (from streamlit) (1.4)\n",
            "Requirement already satisfied: numpy in /usr/local/lib/python3.7/dist-packages (from streamlit) (1.19.5)\n",
            "Requirement already satisfied: packaging in /usr/local/lib/python3.7/dist-packages (from streamlit) (21.3)\n",
            "Requirement already satisfied: pyarrow in /usr/local/lib/python3.7/dist-packages (from streamlit) (3.0.0)\n",
            "Requirement already satisfied: attrs in /usr/local/lib/python3.7/dist-packages (from streamlit) (21.2.0)\n",
            "Requirement already satisfied: pydeck>=0.1.dev5 in /usr/local/lib/python3.7/dist-packages (from streamlit) (0.7.1)\n",
            "Requirement already satisfied: astor in /usr/local/lib/python3.7/dist-packages (from streamlit) (0.8.1)\n",
            "Requirement already satisfied: requests in /usr/local/lib/python3.7/dist-packages (from streamlit) (2.23.0)\n",
            "Requirement already satisfied: tornado>=5.0 in /usr/local/lib/python3.7/dist-packages (from streamlit) (5.1.1)\n",
            "Requirement already satisfied: entrypoints in /usr/local/lib/python3.7/dist-packages (from altair>=3.2.0->streamlit) (0.3)\n",
            "Requirement already satisfied: jinja2 in /usr/local/lib/python3.7/dist-packages (from altair>=3.2.0->streamlit) (2.11.3)\n",
            "Requirement already satisfied: toolz in /usr/local/lib/python3.7/dist-packages (from altair>=3.2.0->streamlit) (0.11.2)\n",
            "Requirement already satisfied: jsonschema in /usr/local/lib/python3.7/dist-packages (from altair>=3.2.0->streamlit) (2.6.0)\n",
            "Requirement already satisfied: typing-extensions>=3.7.4.3 in /usr/local/lib/python3.7/dist-packages (from gitpython!=3.1.19->streamlit) (3.10.0.2)\n",
            "Requirement already satisfied: gitdb<5,>=4.0.1 in /usr/local/lib/python3.7/dist-packages (from gitpython!=3.1.19->streamlit) (4.0.9)\n",
            "Requirement already satisfied: smmap<6,>=3.0.1 in /usr/local/lib/python3.7/dist-packages (from gitdb<5,>=4.0.1->gitpython!=3.1.19->streamlit) (5.0.0)\n",
            "Requirement already satisfied: pytz>=2017.2 in /usr/local/lib/python3.7/dist-packages (from pandas>=0.21.0->streamlit) (2018.9)\n",
            "Requirement already satisfied: six>=1.9 in /usr/local/lib/python3.7/dist-packages (from protobuf!=3.11,>=3.6.0->streamlit) (1.15.0)\n",
            "Requirement already satisfied: traitlets>=4.3.2 in /usr/local/lib/python3.7/dist-packages (from pydeck>=0.1.dev5->streamlit) (5.1.1)\n",
            "Requirement already satisfied: ipykernel>=5.1.2 in /usr/local/lib/python3.7/dist-packages (from pydeck>=0.1.dev5->streamlit) (6.5.1)\n",
            "Requirement already satisfied: ipywidgets>=7.0.0 in /usr/local/lib/python3.7/dist-packages (from pydeck>=0.1.dev5->streamlit) (7.6.5)\n",
            "Requirement already satisfied: debugpy<2.0,>=1.0.0 in /usr/local/lib/python3.7/dist-packages (from ipykernel>=5.1.2->pydeck>=0.1.dev5->streamlit) (1.0.0)\n",
            "Requirement already satisfied: matplotlib-inline<0.2.0,>=0.1.0 in /usr/local/lib/python3.7/dist-packages (from ipykernel>=5.1.2->pydeck>=0.1.dev5->streamlit) (0.1.3)\n",
            "Requirement already satisfied: importlib-metadata<5 in /usr/local/lib/python3.7/dist-packages (from ipykernel>=5.1.2->pydeck>=0.1.dev5->streamlit) (4.8.2)\n",
            "Requirement already satisfied: jupyter-client<8.0 in /usr/local/lib/python3.7/dist-packages (from ipykernel>=5.1.2->pydeck>=0.1.dev5->streamlit) (5.3.5)\n",
            "Requirement already satisfied: argcomplete>=1.12.3 in /usr/local/lib/python3.7/dist-packages (from ipykernel>=5.1.2->pydeck>=0.1.dev5->streamlit) (1.12.3)\n",
            "Requirement already satisfied: ipython>=7.23.1 in /usr/local/lib/python3.7/dist-packages (from ipykernel>=5.1.2->pydeck>=0.1.dev5->streamlit) (7.29.0)\n",
            "Requirement already satisfied: zipp>=0.5 in /usr/local/lib/python3.7/dist-packages (from importlib-metadata<5->ipykernel>=5.1.2->pydeck>=0.1.dev5->streamlit) (3.6.0)\n",
            "Requirement already satisfied: pygments in /usr/local/lib/python3.7/dist-packages (from ipython>=7.23.1->ipykernel>=5.1.2->pydeck>=0.1.dev5->streamlit) (2.6.1)\n",
            "Requirement already satisfied: setuptools>=18.5 in /usr/local/lib/python3.7/dist-packages (from ipython>=7.23.1->ipykernel>=5.1.2->pydeck>=0.1.dev5->streamlit) (57.4.0)\n",
            "Requirement already satisfied: pexpect>4.3 in /usr/local/lib/python3.7/dist-packages (from ipython>=7.23.1->ipykernel>=5.1.2->pydeck>=0.1.dev5->streamlit) (4.8.0)\n",
            "Requirement already satisfied: jedi>=0.16 in /usr/local/lib/python3.7/dist-packages (from ipython>=7.23.1->ipykernel>=5.1.2->pydeck>=0.1.dev5->streamlit) (0.18.1)\n",
            "Requirement already satisfied: pickleshare in /usr/local/lib/python3.7/dist-packages (from ipython>=7.23.1->ipykernel>=5.1.2->pydeck>=0.1.dev5->streamlit) (0.7.5)\n",
            "Requirement already satisfied: backcall in /usr/local/lib/python3.7/dist-packages (from ipython>=7.23.1->ipykernel>=5.1.2->pydeck>=0.1.dev5->streamlit) (0.2.0)\n",
            "Requirement already satisfied: prompt-toolkit!=3.0.0,!=3.0.1,<3.1.0,>=2.0.0 in /usr/local/lib/python3.7/dist-packages (from ipython>=7.23.1->ipykernel>=5.1.2->pydeck>=0.1.dev5->streamlit) (3.0.22)\n",
            "Requirement already satisfied: decorator in /usr/local/lib/python3.7/dist-packages (from ipython>=7.23.1->ipykernel>=5.1.2->pydeck>=0.1.dev5->streamlit) (4.4.2)\n",
            "Requirement already satisfied: nbformat>=4.2.0 in /usr/local/lib/python3.7/dist-packages (from ipywidgets>=7.0.0->pydeck>=0.1.dev5->streamlit) (5.1.3)\n",
            "Requirement already satisfied: widgetsnbextension~=3.5.0 in /usr/local/lib/python3.7/dist-packages (from ipywidgets>=7.0.0->pydeck>=0.1.dev5->streamlit) (3.5.2)\n",
            "Requirement already satisfied: ipython-genutils~=0.2.0 in /usr/local/lib/python3.7/dist-packages (from ipywidgets>=7.0.0->pydeck>=0.1.dev5->streamlit) (0.2.0)\n",
            "Requirement already satisfied: jupyterlab-widgets>=1.0.0 in /usr/local/lib/python3.7/dist-packages (from ipywidgets>=7.0.0->pydeck>=0.1.dev5->streamlit) (1.0.2)\n",
            "Requirement already satisfied: parso<0.9.0,>=0.8.0 in /usr/local/lib/python3.7/dist-packages (from jedi>=0.16->ipython>=7.23.1->ipykernel>=5.1.2->pydeck>=0.1.dev5->streamlit) (0.8.2)\n",
            "Requirement already satisfied: MarkupSafe>=0.23 in /usr/local/lib/python3.7/dist-packages (from jinja2->altair>=3.2.0->streamlit) (2.0.1)\n",
            "Requirement already satisfied: pyzmq>=13 in /usr/local/lib/python3.7/dist-packages (from jupyter-client<8.0->ipykernel>=5.1.2->pydeck>=0.1.dev5->streamlit) (22.3.0)\n",
            "Requirement already satisfied: jupyter-core>=4.6.0 in /usr/local/lib/python3.7/dist-packages (from jupyter-client<8.0->ipykernel>=5.1.2->pydeck>=0.1.dev5->streamlit) (4.9.1)\n",
            "Requirement already satisfied: ptyprocess>=0.5 in /usr/local/lib/python3.7/dist-packages (from pexpect>4.3->ipython>=7.23.1->ipykernel>=5.1.2->pydeck>=0.1.dev5->streamlit) (0.7.0)\n",
            "Requirement already satisfied: wcwidth in /usr/local/lib/python3.7/dist-packages (from prompt-toolkit!=3.0.0,!=3.0.1,<3.1.0,>=2.0.0->ipython>=7.23.1->ipykernel>=5.1.2->pydeck>=0.1.dev5->streamlit) (0.2.5)\n",
            "Requirement already satisfied: notebook>=4.4.1 in /usr/local/lib/python3.7/dist-packages (from widgetsnbextension~=3.5.0->ipywidgets>=7.0.0->pydeck>=0.1.dev5->streamlit) (5.3.1)\n",
            "Requirement already satisfied: Send2Trash in /usr/local/lib/python3.7/dist-packages (from notebook>=4.4.1->widgetsnbextension~=3.5.0->ipywidgets>=7.0.0->pydeck>=0.1.dev5->streamlit) (1.8.0)\n",
            "Requirement already satisfied: nbconvert in /usr/local/lib/python3.7/dist-packages (from notebook>=4.4.1->widgetsnbextension~=3.5.0->ipywidgets>=7.0.0->pydeck>=0.1.dev5->streamlit) (5.6.1)\n",
            "Requirement already satisfied: terminado>=0.8.1 in /usr/local/lib/python3.7/dist-packages (from notebook>=4.4.1->widgetsnbextension~=3.5.0->ipywidgets>=7.0.0->pydeck>=0.1.dev5->streamlit) (0.12.1)\n",
            "Requirement already satisfied: testpath in /usr/local/lib/python3.7/dist-packages (from nbconvert->notebook>=4.4.1->widgetsnbextension~=3.5.0->ipywidgets>=7.0.0->pydeck>=0.1.dev5->streamlit) (0.5.0)\n",
            "Requirement already satisfied: defusedxml in /usr/local/lib/python3.7/dist-packages (from nbconvert->notebook>=4.4.1->widgetsnbextension~=3.5.0->ipywidgets>=7.0.0->pydeck>=0.1.dev5->streamlit) (0.7.1)\n",
            "Requirement already satisfied: mistune<2,>=0.8.1 in /usr/local/lib/python3.7/dist-packages (from nbconvert->notebook>=4.4.1->widgetsnbextension~=3.5.0->ipywidgets>=7.0.0->pydeck>=0.1.dev5->streamlit) (0.8.4)\n",
            "Requirement already satisfied: bleach in /usr/local/lib/python3.7/dist-packages (from nbconvert->notebook>=4.4.1->widgetsnbextension~=3.5.0->ipywidgets>=7.0.0->pydeck>=0.1.dev5->streamlit) (4.1.0)\n",
            "Requirement already satisfied: pandocfilters>=1.4.1 in /usr/local/lib/python3.7/dist-packages (from nbconvert->notebook>=4.4.1->widgetsnbextension~=3.5.0->ipywidgets>=7.0.0->pydeck>=0.1.dev5->streamlit) (1.5.0)\n",
            "Requirement already satisfied: webencodings in /usr/local/lib/python3.7/dist-packages (from bleach->nbconvert->notebook>=4.4.1->widgetsnbextension~=3.5.0->ipywidgets>=7.0.0->pydeck>=0.1.dev5->streamlit) (0.5.1)\n",
            "Requirement already satisfied: pyparsing!=3.0.5,>=2.0.2 in /usr/local/lib/python3.7/dist-packages (from packaging->streamlit) (3.0.6)\n",
            "Requirement already satisfied: urllib3!=1.25.0,!=1.25.1,<1.26,>=1.21.1 in /usr/local/lib/python3.7/dist-packages (from requests->streamlit) (1.24.3)\n",
            "Requirement already satisfied: certifi>=2017.4.17 in /usr/local/lib/python3.7/dist-packages (from requests->streamlit) (2021.10.8)\n",
            "Requirement already satisfied: idna<3,>=2.5 in /usr/local/lib/python3.7/dist-packages (from requests->streamlit) (2.10)\n",
            "Requirement already satisfied: chardet<4,>=3.0.2 in /usr/local/lib/python3.7/dist-packages (from requests->streamlit) (3.0.4)\n"
          ]
        }
      ]
    },
    {
      "cell_type": "code",
      "metadata": {
        "id": "CBtyWHGfH2ZL"
      },
      "source": [
        "import streamlit as st\n"
      ],
      "id": "CBtyWHGfH2ZL",
      "execution_count": 44,
      "outputs": []
    },
    {
      "cell_type": "code",
      "metadata": {
        "id": "A0veBhaHH4di"
      },
      "source": [
        ""
      ],
      "id": "A0veBhaHH4di",
      "execution_count": 44,
      "outputs": []
    },
    {
      "cell_type": "code",
      "metadata": {
        "id": "CyDWHbrPHqHQ"
      },
      "source": [
        ""
      ],
      "id": "CyDWHbrPHqHQ",
      "execution_count": 44,
      "outputs": []
    },
    {
      "cell_type": "code",
      "metadata": {
        "id": "baafcb48"
      },
      "source": [
        "features = []\n",
        "labels = []\n",
        "\n",
        "with open(\"/content/XY.txt\", \"r\", encoding='utf-8') as fopen:\n",
        "    for i in fopen:\n",
        "        i = i.strip().split(\",\")\n",
        "        features.append(i[0])\n",
        "        labels.append(int(i[1]))"
      ],
      "id": "baafcb48",
      "execution_count": 45,
      "outputs": []
    },
    {
      "cell_type": "code",
      "metadata": {
        "colab": {
          "base_uri": "https://localhost:8080/"
        },
        "id": "88170ebe",
        "outputId": "638759d2-b353-4f63-8c17-dd85fdaa9703"
      },
      "source": [
        "data = {'features': features, 'labels': labels}\n",
        "print(len(features))\n",
        "print(len(labels))"
      ],
      "id": "88170ebe",
      "execution_count": 46,
      "outputs": [
        {
          "output_type": "stream",
          "name": "stdout",
          "text": [
            "100\n",
            "100\n"
          ]
        }
      ]
    },
    {
      "cell_type": "code",
      "metadata": {
        "id": "9939a9f5",
        "colab": {
          "base_uri": "https://localhost:8080/",
          "height": 423
        },
        "outputId": "7ae04f1e-5955-4467-d36c-d80ba75376fd"
      },
      "source": [
        "da = pd.DataFrame.from_dict(data)\n",
        "da"
      ],
      "id": "9939a9f5",
      "execution_count": 47,
      "outputs": [
        {
          "output_type": "execute_result",
          "data": {
            "text/html": [
              "<div>\n",
              "<style scoped>\n",
              "    .dataframe tbody tr th:only-of-type {\n",
              "        vertical-align: middle;\n",
              "    }\n",
              "\n",
              "    .dataframe tbody tr th {\n",
              "        vertical-align: top;\n",
              "    }\n",
              "\n",
              "    .dataframe thead th {\n",
              "        text-align: right;\n",
              "    }\n",
              "</style>\n",
              "<table border=\"1\" class=\"dataframe\">\n",
              "  <thead>\n",
              "    <tr style=\"text-align: right;\">\n",
              "      <th></th>\n",
              "      <th>features</th>\n",
              "      <th>labels</th>\n",
              "    </tr>\n",
              "  </thead>\n",
              "  <tbody>\n",
              "    <tr>\n",
              "      <th>0</th>\n",
              "      <td>main ma ta yout a nay nae eain thant shin yae ...</td>\n",
              "      <td>1</td>\n",
              "    </tr>\n",
              "    <tr>\n",
              "      <th>1</th>\n",
              "      <td>nga hkway ma soe lay tway ko kyit tl</td>\n",
              "      <td>1</td>\n",
              "    </tr>\n",
              "    <tr>\n",
              "      <th>2</th>\n",
              "      <td>hkway ma nin bl thu ko chit nay tr ll</td>\n",
              "      <td>1</td>\n",
              "    </tr>\n",
              "    <tr>\n",
              "      <th>3</th>\n",
              "      <td>main kalay tine ko hkway ma lo u sa yin min ka...</td>\n",
              "      <td>1</td>\n",
              "    </tr>\n",
              "    <tr>\n",
              "      <th>4</th>\n",
              "      <td>pya dar ta lan than ta lan si mhoet</td>\n",
              "      <td>0</td>\n",
              "    </tr>\n",
              "    <tr>\n",
              "      <th>...</th>\n",
              "      <td>...</td>\n",
              "      <td>...</td>\n",
              "    </tr>\n",
              "    <tr>\n",
              "      <th>95</th>\n",
              "      <td>min doh hta min war ag sarr htrr</td>\n",
              "      <td>1</td>\n",
              "    </tr>\n",
              "    <tr>\n",
              "      <th>96</th>\n",
              "      <td>laung nay tr lr</td>\n",
              "      <td>1</td>\n",
              "    </tr>\n",
              "    <tr>\n",
              "      <th>97</th>\n",
              "      <td>ma soe nae kwr</td>\n",
              "      <td>1</td>\n",
              "    </tr>\n",
              "    <tr>\n",
              "      <th>98</th>\n",
              "      <td>twr lu soe</td>\n",
              "      <td>1</td>\n",
              "    </tr>\n",
              "    <tr>\n",
              "      <th>99</th>\n",
              "      <td>i love u</td>\n",
              "      <td>0</td>\n",
              "    </tr>\n",
              "  </tbody>\n",
              "</table>\n",
              "<p>100 rows × 2 columns</p>\n",
              "</div>"
            ],
            "text/plain": [
              "                                             features  labels\n",
              "0   main ma ta yout a nay nae eain thant shin yae ...       1\n",
              "1                nga hkway ma soe lay tway ko kyit tl       1\n",
              "2               hkway ma nin bl thu ko chit nay tr ll       1\n",
              "3   main kalay tine ko hkway ma lo u sa yin min ka...       1\n",
              "4                 pya dar ta lan than ta lan si mhoet       0\n",
              "..                                                ...     ...\n",
              "95                   min doh hta min war ag sarr htrr       1\n",
              "96                                    laung nay tr lr       1\n",
              "97                                     ma soe nae kwr       1\n",
              "98                                         twr lu soe       1\n",
              "99                                           i love u       0\n",
              "\n",
              "[100 rows x 2 columns]"
            ]
          },
          "metadata": {},
          "execution_count": 47
        }
      ]
    },
    {
      "cell_type": "code",
      "metadata": {
        "id": "84e2df16",
        "colab": {
          "base_uri": "https://localhost:8080/",
          "height": 423
        },
        "outputId": "0df17351-f00a-4345-a0e0-d50061c90fee"
      },
      "source": [
        "da = da.sample(n = len(da), random_state=1)\n",
        "da"
      ],
      "id": "84e2df16",
      "execution_count": 48,
      "outputs": [
        {
          "output_type": "execute_result",
          "data": {
            "text/html": [
              "<div>\n",
              "<style scoped>\n",
              "    .dataframe tbody tr th:only-of-type {\n",
              "        vertical-align: middle;\n",
              "    }\n",
              "\n",
              "    .dataframe tbody tr th {\n",
              "        vertical-align: top;\n",
              "    }\n",
              "\n",
              "    .dataframe thead th {\n",
              "        text-align: right;\n",
              "    }\n",
              "</style>\n",
              "<table border=\"1\" class=\"dataframe\">\n",
              "  <thead>\n",
              "    <tr style=\"text-align: right;\">\n",
              "      <th></th>\n",
              "      <th>features</th>\n",
              "      <th>labels</th>\n",
              "    </tr>\n",
              "  </thead>\n",
              "  <tbody>\n",
              "    <tr>\n",
              "      <th>80</th>\n",
              "      <td>sout ta lwal tway ma loke kya pr nae</td>\n",
              "      <td>1</td>\n",
              "    </tr>\n",
              "    <tr>\n",
              "      <th>84</th>\n",
              "      <td>nin ka lin sar nay tr lrr</td>\n",
              "      <td>1</td>\n",
              "    </tr>\n",
              "    <tr>\n",
              "      <th>33</th>\n",
              "      <td>zaw mae lone lee pl</td>\n",
              "      <td>1</td>\n",
              "    </tr>\n",
              "    <tr>\n",
              "      <th>81</th>\n",
              "      <td>sout kalarr wat tharr sarr kwr</td>\n",
              "      <td>1</td>\n",
              "    </tr>\n",
              "    <tr>\n",
              "      <th>93</th>\n",
              "      <td>sout japu sout chee brain kg tway pyaw yin lal...</td>\n",
              "      <td>1</td>\n",
              "    </tr>\n",
              "    <tr>\n",
              "      <th>...</th>\n",
              "      <td>...</td>\n",
              "      <td>...</td>\n",
              "    </tr>\n",
              "    <tr>\n",
              "      <th>75</th>\n",
              "      <td>min doh khan sar kye sann kwar</td>\n",
              "      <td>1</td>\n",
              "    </tr>\n",
              "    <tr>\n",
              "      <th>9</th>\n",
              "      <td>nyan chin shin mal</td>\n",
              "      <td>0</td>\n",
              "    </tr>\n",
              "    <tr>\n",
              "      <th>72</th>\n",
              "      <td>min doh ta ko line ko yay laung cha pee shot t...</td>\n",
              "      <td>1</td>\n",
              "    </tr>\n",
              "    <tr>\n",
              "      <th>12</th>\n",
              "      <td>lu htel mhar ngar doe ma par bu</td>\n",
              "      <td>0</td>\n",
              "    </tr>\n",
              "    <tr>\n",
              "      <th>37</th>\n",
              "      <td>yote ta yat car tway yout lr pee min doh shi t...</td>\n",
              "      <td>0</td>\n",
              "    </tr>\n",
              "  </tbody>\n",
              "</table>\n",
              "<p>100 rows × 2 columns</p>\n",
              "</div>"
            ],
            "text/plain": [
              "                                             features  labels\n",
              "80               sout ta lwal tway ma loke kya pr nae       1\n",
              "84                          nin ka lin sar nay tr lrr       1\n",
              "33                                zaw mae lone lee pl       1\n",
              "81                     sout kalarr wat tharr sarr kwr       1\n",
              "93  sout japu sout chee brain kg tway pyaw yin lal...       1\n",
              "..                                                ...     ...\n",
              "75                     min doh khan sar kye sann kwar       1\n",
              "9                                  nyan chin shin mal       0\n",
              "72  min doh ta ko line ko yay laung cha pee shot t...       1\n",
              "12                    lu htel mhar ngar doe ma par bu       0\n",
              "37  yote ta yat car tway yout lr pee min doh shi t...       0\n",
              "\n",
              "[100 rows x 2 columns]"
            ]
          },
          "metadata": {},
          "execution_count": 48
        }
      ]
    },
    {
      "cell_type": "code",
      "metadata": {
        "colab": {
          "base_uri": "https://localhost:8080/"
        },
        "id": "1279985e",
        "outputId": "8b04a49c-aa00-4e9d-e533-c7c4633796df"
      },
      "source": [
        "train = int(float(input(\"Split %: \") or 0.8) * len(da))\n",
        "training_sentences = da[:train]['features']\n",
        "training_labels = da[:train]['labels']\n",
        "testing_sentences = da[train:]['features']\n",
        "testing_labels = da[train:]['labels']"
      ],
      "id": "1279985e",
      "execution_count": 49,
      "outputs": [
        {
          "name": "stdout",
          "output_type": "stream",
          "text": [
            "Split %: 0.8\n"
          ]
        }
      ]
    },
    {
      "cell_type": "code",
      "metadata": {
        "id": "eOTwI5akWRx8",
        "colab": {
          "base_uri": "https://localhost:8080/"
        },
        "outputId": "833d9bbc-1ba4-425b-e5ba-05d43c7ebc0f"
      },
      "source": [
        "training_sentences"
      ],
      "id": "eOTwI5akWRx8",
      "execution_count": 50,
      "outputs": [
        {
          "output_type": "execute_result",
          "data": {
            "text/plain": [
              "80                 sout ta lwal tway ma loke kya pr nae\n",
              "84                            nin ka lin sar nay tr lrr\n",
              "33                                  zaw mae lone lee pl\n",
              "81                       sout kalarr wat tharr sarr kwr\n",
              "93    sout japu sout chee brain kg tway pyaw yin lal...\n",
              "                            ...                        \n",
              "96                                      laung nay tr lr\n",
              "13    ar nar yuu mate sar tway nae m thu taw arr lon...\n",
              "68                                            ku pr onn\n",
              "85                            yout kyarr tway ma kgg bu\n",
              "14            ka min doh bl top ma lu taw ma toe top bu\n",
              "Name: features, Length: 80, dtype: object"
            ]
          },
          "metadata": {},
          "execution_count": 50
        }
      ]
    },
    {
      "cell_type": "code",
      "metadata": {
        "id": "wPgr4mqRVnhP",
        "colab": {
          "base_uri": "https://localhost:8080/"
        },
        "outputId": "4e8d310b-09ea-49cc-8bbe-1a4006926701"
      },
      "source": [
        "training_labels"
      ],
      "id": "wPgr4mqRVnhP",
      "execution_count": 51,
      "outputs": [
        {
          "output_type": "execute_result",
          "data": {
            "text/plain": [
              "80    1\n",
              "84    1\n",
              "33    1\n",
              "81    1\n",
              "93    1\n",
              "     ..\n",
              "96    1\n",
              "13    1\n",
              "68    0\n",
              "85    1\n",
              "14    1\n",
              "Name: labels, Length: 80, dtype: int64"
            ]
          },
          "metadata": {},
          "execution_count": 51
        }
      ]
    },
    {
      "cell_type": "code",
      "metadata": {
        "id": "LGi7UoaAVPz2",
        "colab": {
          "base_uri": "https://localhost:8080/"
        },
        "outputId": "124ac9bd-f501-4d5b-8a56-589c7d630b52"
      },
      "source": [
        "testing_labels"
      ],
      "id": "LGi7UoaAVPz2",
      "execution_count": 52,
      "outputs": [
        {
          "output_type": "execute_result",
          "data": {
            "text/plain": [
              "29    1\n",
              "28    1\n",
              "11    1\n",
              "18    1\n",
              "20    1\n",
              "50    0\n",
              "25    1\n",
              "6     0\n",
              "71    1\n",
              "76    1\n",
              "1     1\n",
              "16    1\n",
              "64    1\n",
              "79    0\n",
              "5     1\n",
              "75    1\n",
              "9     0\n",
              "72    1\n",
              "12    0\n",
              "37    0\n",
              "Name: labels, dtype: int64"
            ]
          },
          "metadata": {},
          "execution_count": 52
        }
      ]
    },
    {
      "cell_type": "code",
      "metadata": {
        "id": "dbe56147",
        "colab": {
          "base_uri": "https://localhost:8080/"
        },
        "outputId": "210f55fa-1807-429c-d0c7-1c618ea65f5e"
      },
      "source": [
        "training_sentences.shape"
      ],
      "id": "dbe56147",
      "execution_count": 53,
      "outputs": [
        {
          "output_type": "execute_result",
          "data": {
            "text/plain": [
              "(80,)"
            ]
          },
          "metadata": {},
          "execution_count": 53
        }
      ]
    },
    {
      "cell_type": "code",
      "metadata": {
        "id": "d914ad6f"
      },
      "source": [
        "vocab_size = 200\n",
        "embedding_dim = 16\n",
        "max_length = 50\n",
        "trunc_type='post'\n",
        "oov_tok = \"<OOV>\""
      ],
      "id": "d914ad6f",
      "execution_count": 54,
      "outputs": []
    },
    {
      "cell_type": "code",
      "metadata": {
        "id": "3ad41926"
      },
      "source": [
        "tokenizer = Tokenizer(num_words = vocab_size, oov_token=oov_tok)\n",
        "tokenizer.fit_on_texts(training_sentences)\n",
        "word_index = tokenizer.word_index\n",
        "sequences = tokenizer.texts_to_sequences(training_sentences)\n",
        "padded = pad_sequences(sequences,maxlen=max_length, truncating=trunc_type,padding='post')\n",
        "\n",
        "testing_sequences = tokenizer.texts_to_sequences(testing_sentences)\n",
        "testing_padded = pad_sequences(testing_sequences,maxlen=max_length, truncating=trunc_type,padding='post')"
      ],
      "id": "3ad41926",
      "execution_count": 55,
      "outputs": []
    },
    {
      "cell_type": "code",
      "metadata": {
        "id": "S1pdMc3KTmVm",
        "colab": {
          "base_uri": "https://localhost:8080/"
        },
        "outputId": "d670eef5-11d9-438c-bd8c-ea8792cde079"
      },
      "source": [
        "testing_padded"
      ],
      "id": "S1pdMc3KTmVm",
      "execution_count": 56,
      "outputs": [
        {
          "output_type": "execute_result",
          "data": {
            "text/plain": [
              "array([[ 14,  33,  44,   3, 137,  22, 169,   1,   0,   0,   0,   0,   0,\n",
              "          0,   0,   0,   0,   0,   0,   0,   0,   0,   0,   0,   0,   0,\n",
              "          0,   0,   0,   0,   0,   0,   0,   0,   0,   0,   0,   0,   0,\n",
              "          0,   0,   0,   0,   0,   0,   0,   0,   0,   0,   0],\n",
              "       [  1, 100, 100,   1,   1,   1, 146, 162,  61, 188,   1,  21,  50,\n",
              "         92,   1,   1,   1,  44,   1, 101,   2,  18,  15,   1,  32,   1,\n",
              "         19,  62,   1,   1,   0,   0,   0,   0,   0,   0,   0,   0,   0,\n",
              "          0,   0,   0,   0,   0,   0,   0,   0,   0,   0,   0],\n",
              "       [ 53,   1,  78,   1,   1,   1, 129, 117,   0,   0,   0,   0,   0,\n",
              "          0,   0,   0,   0,   0,   0,   0,   0,   0,   0,   0,   0,   0,\n",
              "          0,   0,   0,   0,   0,   0,   0,   0,   0,   0,   0,   0,   0,\n",
              "          0,   0,   0,   0,   0,   0,   0,   0,   0,   0,   0],\n",
              "       [ 58,   1,   2,  49, 175,  44,  68,   0,   0,   0,   0,   0,   0,\n",
              "          0,   0,   0,   0,   0,   0,   0,   0,   0,   0,   0,   0,   0,\n",
              "          0,   0,   0,   0,   0,   0,   0,   0,   0,   0,   0,   0,   0,\n",
              "          0,   0,   0,   0,   0,   0,   0,   0,   0,   0,   0],\n",
              "       [ 24,  30,  24,   1,   3,  17,   0,   0,   0,   0,   0,   0,   0,\n",
              "          0,   0,   0,   0,   0,   0,   0,   0,   0,   0,   0,   0,   0,\n",
              "          0,   0,   0,   0,   0,   0,   0,   0,   0,   0,   0,   0,   0,\n",
              "          0,   0,   0,   0,   0,   0,   0,   0,   0,   0,   0],\n",
              "       [ 22,   1,  24,  28,  25,   0,   0,   0,   0,   0,   0,   0,   0,\n",
              "          0,   0,   0,   0,   0,   0,   0,   0,   0,   0,   0,   0,   0,\n",
              "          0,   0,   0,   0,   0,   0,   0,   0,   0,   0,   0,   0,   0,\n",
              "          0,   0,   0,   0,   0,   0,   0,   0,   0,   0,   0],\n",
              "       [ 24,   1,  43,  24,  29,   1,   1,   1,   0,   0,   0,   0,   0,\n",
              "          0,   0,   0,   0,   0,   0,   0,   0,   0,   0,   0,   0,   0,\n",
              "          0,   0,   0,   0,   0,   0,   0,   0,   0,   0,   0,   0,   0,\n",
              "          0,   0,   0,   0,   0,   0,   0,   0,   0,   0,   0],\n",
              "       [  1,  99,   1, 107,   0,   0,   0,   0,   0,   0,   0,   0,   0,\n",
              "          0,   0,   0,   0,   0,   0,   0,   0,   0,   0,   0,   0,   0,\n",
              "          0,   0,   0,   0,   0,   0,   0,   0,   0,   0,   0,   0,   0,\n",
              "          0,   0,   0,   0,   0,   0,   0,   0,   0,   0,   0],\n",
              "       [  5,   6,   4,   1, 105,  57, 138, 142,   1,  12,   0,   0,   0,\n",
              "          0,   0,   0,   0,   0,   0,   0,   0,   0,   0,   0,   0,   0,\n",
              "          0,   0,   0,   0,   0,   0,   0,   0,   0,   0,   0,   0,   0,\n",
              "          0,   0,   0,   0,   0,   0,   0,   0,   0,   0,   0],\n",
              "       [  1,   1, 157,   1, 101,   1, 175,   1,   3,  47,   1,  20,   0,\n",
              "          0,   0,   0,   0,   0,   0,   0,   0,   0,   0,   0,   0,   0,\n",
              "          0,   0,   0,   0,   0,   0,   0,   0,   0,   0,   0,   0,   0,\n",
              "          0,   0,   0,   0,   0,   0,   0,   0,   0,   0,   0],\n",
              "       [ 52,  54,   2,  32,  31,   3,   4,   1,  20,   0,   0,   0,   0,\n",
              "          0,   0,   0,   0,   0,   0,   0,   0,   0,   0,   0,   0,   0,\n",
              "          0,   0,   0,   0,   0,   0,   0,   0,   0,   0,   0,   0,   0,\n",
              "          0,   0,   0,   0,   0,   0,   0,   0,   0,   0,   0],\n",
              "       [ 24,   1,  24,   1,   3,   1,   1,   1,  68,  68,   0,   0,   0,\n",
              "          0,   0,   0,   0,   0,   0,   0,   0,   0,   0,   0,   0,   0,\n",
              "          0,   0,   0,   0,   0,   0,   0,   0,   0,   0,   0,   0,   0,\n",
              "          0,   0,   0,   0,   0,   0,   0,   0,   0,   0,   0],\n",
              "       [  1,   0,   0,   0,   0,   0,   0,   0,   0,   0,   0,   0,   0,\n",
              "          0,   0,   0,   0,   0,   0,   0,   0,   0,   0,   0,   0,   0,\n",
              "          0,   0,   0,   0,   0,   0,   0,   0,   0,   0,   0,   0,   0,\n",
              "          0,   0,   0,   0,   0,   0,   0,   0,   0,   0,   0],\n",
              "       [  1,  29,  21,  26,  92,   1,   1,  43,   5,   6,   1,   1,   2,\n",
              "         42,   1, 189,  10,   0,   0,   0,   0,   0,   0,   0,   0,   0,\n",
              "          0,   0,   0,   0,   0,   0,   0,   0,   0,   0,   0,   0,   0,\n",
              "          0,   0,   0,   0,   0,   0,   0,   0,   0,   0,   0],\n",
              "       [  1,  99,   2,   1,  10,   1, 158,  26,   3,  19,   0,   0,   0,\n",
              "          0,   0,   0,   0,   0,   0,   0,   0,   0,   0,   0,   0,   0,\n",
              "          0,   0,   0,   0,   0,   0,   0,   0,   0,   0,   0,   0,   0,\n",
              "          0,   0,   0,   0,   0,   0,   0,   0,   0,   0,   0],\n",
              "       [  5,   6,  21,  26,   1,   1,   1,   0,   0,   0,   0,   0,   0,\n",
              "          0,   0,   0,   0,   0,   0,   0,   0,   0,   0,   0,   0,   0,\n",
              "          0,   0,   0,   0,   0,   0,   0,   0,   0,   0,   0,   0,   0,\n",
              "          0,   0,   0,   0,   0,   0,   0,   0,   0,   0,   0],\n",
              "       [  1,   1, 109, 107,   0,   0,   0,   0,   0,   0,   0,   0,   0,\n",
              "          0,   0,   0,   0,   0,   0,   0,   0,   0,   0,   0,   0,   0,\n",
              "          0,   0,   0,   0,   0,   0,   0,   0,   0,   0,   0,   0,   0,\n",
              "          0,   0,   0,   0,   0,   0,   0,   0,   0,   0,   0],\n",
              "       [  5,   6,  11,   4,   1,   4,   1,  85,   1,  61, 197,  83,  12,\n",
              "          0,   0,   0,   0,   0,   0,   0,   0,   0,   0,   0,   0,   0,\n",
              "          0,   0,   0,   0,   0,   0,   0,   0,   0,   0,   0,   0,   0,\n",
              "          0,   0,   0,   0,   0,   0,   0,   0,   0,   0,   0],\n",
              "       [ 24,   1,   1,   1,  56,   2,   1,  10,   0,   0,   0,   0,   0,\n",
              "          0,   0,   0,   0,   0,   0,   0,   0,   0,   0,   0,   0,   0,\n",
              "          0,   0,   0,   0,   0,   0,   0,   0,   0,   0,   0,   0,   0,\n",
              "          0,   0,   0,   0,   0,   0,   0,   0,   0,   0,   0],\n",
              "       [  1,  11,   1,   1,   3,  63,  13,  61,   5,   6,  47, 101,  83,\n",
              "         21,   4,  13, 170,  12,  23,   0,   0,   0,   0,   0,   0,   0,\n",
              "          0,   0,   0,   0,   0,   0,   0,   0,   0,   0,   0,   0,   0,\n",
              "          0,   0,   0,   0,   0,   0,   0,   0,   0,   0,   0]],\n",
              "      dtype=int32)"
            ]
          },
          "metadata": {},
          "execution_count": 56
        }
      ]
    },
    {
      "cell_type": "code",
      "metadata": {
        "id": "4z4XTj_ITrH5",
        "colab": {
          "base_uri": "https://localhost:8080/"
        },
        "outputId": "e841c30e-1aed-4769-a432-f9602e5c7293"
      },
      "source": [
        "testing_sequences"
      ],
      "id": "4z4XTj_ITrH5",
      "execution_count": 57,
      "outputs": [
        {
          "output_type": "execute_result",
          "data": {
            "text/plain": [
              "[[14, 33, 44, 3, 137, 22, 169, 1],\n",
              " [1,\n",
              "  100,\n",
              "  100,\n",
              "  1,\n",
              "  1,\n",
              "  1,\n",
              "  146,\n",
              "  162,\n",
              "  61,\n",
              "  188,\n",
              "  1,\n",
              "  21,\n",
              "  50,\n",
              "  92,\n",
              "  1,\n",
              "  1,\n",
              "  1,\n",
              "  44,\n",
              "  1,\n",
              "  101,\n",
              "  2,\n",
              "  18,\n",
              "  15,\n",
              "  1,\n",
              "  32,\n",
              "  1,\n",
              "  19,\n",
              "  62,\n",
              "  1,\n",
              "  1],\n",
              " [53, 1, 78, 1, 1, 1, 129, 117],\n",
              " [58, 1, 2, 49, 175, 44, 68],\n",
              " [24, 30, 24, 1, 3, 17],\n",
              " [22, 1, 24, 28, 25],\n",
              " [24, 1, 43, 24, 29, 1, 1, 1],\n",
              " [1, 99, 1, 107],\n",
              " [5, 6, 4, 1, 105, 57, 138, 142, 1, 12],\n",
              " [1, 1, 157, 1, 101, 1, 175, 1, 3, 47, 1, 20],\n",
              " [52, 54, 2, 32, 31, 3, 4, 1, 20],\n",
              " [24, 1, 24, 1, 3, 1, 1, 1, 68, 68],\n",
              " [1],\n",
              " [1, 29, 21, 26, 92, 1, 1, 43, 5, 6, 1, 1, 2, 42, 1, 189, 10],\n",
              " [1, 99, 2, 1, 10, 1, 158, 26, 3, 19],\n",
              " [5, 6, 21, 26, 1, 1, 1],\n",
              " [1, 1, 109, 107],\n",
              " [5, 6, 11, 4, 1, 4, 1, 85, 1, 61, 197, 83, 12],\n",
              " [24, 1, 1, 1, 56, 2, 1, 10],\n",
              " [1, 11, 1, 1, 3, 63, 13, 61, 5, 6, 47, 101, 83, 21, 4, 13, 170, 12, 23]]"
            ]
          },
          "metadata": {},
          "execution_count": 57
        }
      ]
    },
    {
      "cell_type": "code",
      "metadata": {
        "id": "GAKa7orfHeSb"
      },
      "source": [
        ""
      ],
      "id": "GAKa7orfHeSb",
      "execution_count": 57,
      "outputs": []
    },
    {
      "cell_type": "code",
      "metadata": {
        "id": "LcBQvZ6-TyHE",
        "colab": {
          "base_uri": "https://localhost:8080/"
        },
        "outputId": "749aeb61-e170-4f5a-b1f6-9579be8b6aa3"
      },
      "source": [
        "padded"
      ],
      "id": "LcBQvZ6-TyHE",
      "execution_count": 58,
      "outputs": [
        {
          "output_type": "execute_result",
          "data": {
            "text/plain": [
              "array([[ 14,  11, 112, ...,   0,   0,   0],\n",
              "       [ 64,  17, 114, ...,   0,   0,   0],\n",
              "       [116, 117,  40, ...,   0,   0,   0],\n",
              "       ...,\n",
              "       [108,  25,   1, ...,   0,   0,   0],\n",
              "       [ 63,   1,   3, ...,   0,   0,   0],\n",
              "       [ 17,   5,   6, ...,   0,   0,   0]], dtype=int32)"
            ]
          },
          "metadata": {},
          "execution_count": 58
        }
      ]
    },
    {
      "cell_type": "code",
      "metadata": {
        "id": "4d8dbc81"
      },
      "source": [
        "model = tf.keras.Sequential([\n",
        "    tf.keras.layers.Embedding(vocab_size, embedding_dim, input_length=max_length),\n",
        "    tf.keras.layers.Flatten(),\n",
        "    tf.keras.layers.Dense(128, activation='relu'),\n",
        "    tf.keras.layers.Dense(1, activation='sigmoid')\n",
        "])\n",
        "model.compile(loss='binary_crossentropy',optimizer='adam',metrics=['accuracy'])"
      ],
      "id": "4d8dbc81",
      "execution_count": 59,
      "outputs": []
    },
    {
      "cell_type": "code",
      "metadata": {
        "id": "496727a2",
        "colab": {
          "base_uri": "https://localhost:8080/"
        },
        "outputId": "5f1207e2-13ea-421f-f81d-2a972bc7c1b6"
      },
      "source": [
        "num_epochs = 30\n",
        "history = model.fit(padded, training_labels, epochs=num_epochs,verbose = 2)"
      ],
      "id": "496727a2",
      "execution_count": 60,
      "outputs": [
        {
          "output_type": "stream",
          "name": "stdout",
          "text": [
            "Epoch 1/30\n",
            "3/3 - 0s - loss: 0.6811 - accuracy: 0.5625 - 492ms/epoch - 164ms/step\n",
            "Epoch 2/30\n",
            "3/3 - 0s - loss: 0.5930 - accuracy: 0.7750 - 12ms/epoch - 4ms/step\n",
            "Epoch 3/30\n",
            "3/3 - 0s - loss: 0.5488 - accuracy: 0.7750 - 11ms/epoch - 4ms/step\n",
            "Epoch 4/30\n",
            "3/3 - 0s - loss: 0.5298 - accuracy: 0.7750 - 10ms/epoch - 3ms/step\n",
            "Epoch 5/30\n",
            "3/3 - 0s - loss: 0.5318 - accuracy: 0.7750 - 11ms/epoch - 4ms/step\n",
            "Epoch 6/30\n",
            "3/3 - 0s - loss: 0.5373 - accuracy: 0.7750 - 11ms/epoch - 4ms/step\n",
            "Epoch 7/30\n",
            "3/3 - 0s - loss: 0.5314 - accuracy: 0.7750 - 11ms/epoch - 4ms/step\n",
            "Epoch 8/30\n",
            "3/3 - 0s - loss: 0.5145 - accuracy: 0.7750 - 10ms/epoch - 3ms/step\n",
            "Epoch 9/30\n",
            "3/3 - 0s - loss: 0.5055 - accuracy: 0.7750 - 11ms/epoch - 4ms/step\n",
            "Epoch 10/30\n",
            "3/3 - 0s - loss: 0.4995 - accuracy: 0.7750 - 12ms/epoch - 4ms/step\n",
            "Epoch 11/30\n",
            "3/3 - 0s - loss: 0.4959 - accuracy: 0.7750 - 21ms/epoch - 7ms/step\n",
            "Epoch 12/30\n",
            "3/3 - 0s - loss: 0.4857 - accuracy: 0.7750 - 12ms/epoch - 4ms/step\n",
            "Epoch 13/30\n",
            "3/3 - 0s - loss: 0.4731 - accuracy: 0.7750 - 10ms/epoch - 3ms/step\n",
            "Epoch 14/30\n",
            "3/3 - 0s - loss: 0.4600 - accuracy: 0.7750 - 9ms/epoch - 3ms/step\n",
            "Epoch 15/30\n",
            "3/3 - 0s - loss: 0.4479 - accuracy: 0.7750 - 10ms/epoch - 3ms/step\n",
            "Epoch 16/30\n",
            "3/3 - 0s - loss: 0.4341 - accuracy: 0.7875 - 12ms/epoch - 4ms/step\n",
            "Epoch 17/30\n",
            "3/3 - 0s - loss: 0.4159 - accuracy: 0.7875 - 11ms/epoch - 4ms/step\n",
            "Epoch 18/30\n",
            "3/3 - 0s - loss: 0.3970 - accuracy: 0.7875 - 10ms/epoch - 3ms/step\n",
            "Epoch 19/30\n",
            "3/3 - 0s - loss: 0.3766 - accuracy: 0.7875 - 17ms/epoch - 6ms/step\n",
            "Epoch 20/30\n",
            "3/3 - 0s - loss: 0.3577 - accuracy: 0.8000 - 8ms/epoch - 3ms/step\n",
            "Epoch 21/30\n",
            "3/3 - 0s - loss: 0.3341 - accuracy: 0.8125 - 9ms/epoch - 3ms/step\n",
            "Epoch 22/30\n",
            "3/3 - 0s - loss: 0.3125 - accuracy: 0.8125 - 9ms/epoch - 3ms/step\n",
            "Epoch 23/30\n",
            "3/3 - 0s - loss: 0.2901 - accuracy: 0.8625 - 12ms/epoch - 4ms/step\n",
            "Epoch 24/30\n",
            "3/3 - 0s - loss: 0.2675 - accuracy: 0.9000 - 9ms/epoch - 3ms/step\n",
            "Epoch 25/30\n",
            "3/3 - 0s - loss: 0.2453 - accuracy: 0.9250 - 13ms/epoch - 4ms/step\n",
            "Epoch 26/30\n",
            "3/3 - 0s - loss: 0.2241 - accuracy: 0.9625 - 9ms/epoch - 3ms/step\n",
            "Epoch 27/30\n",
            "3/3 - 0s - loss: 0.2054 - accuracy: 0.9625 - 10ms/epoch - 3ms/step\n",
            "Epoch 28/30\n",
            "3/3 - 0s - loss: 0.1865 - accuracy: 0.9750 - 13ms/epoch - 4ms/step\n",
            "Epoch 29/30\n",
            "3/3 - 0s - loss: 0.1692 - accuracy: 0.9750 - 12ms/epoch - 4ms/step\n",
            "Epoch 30/30\n",
            "3/3 - 0s - loss: 0.1539 - accuracy: 0.9750 - 10ms/epoch - 3ms/step\n"
          ]
        }
      ]
    },
    {
      "cell_type": "code",
      "metadata": {
        "id": "ce549009",
        "colab": {
          "base_uri": "https://localhost:8080/"
        },
        "outputId": "82cad833-1071-43a8-a766-6c1efeed1147"
      },
      "source": [
        "model.evaluate(padded,training_labels)\n"
      ],
      "id": "ce549009",
      "execution_count": 61,
      "outputs": [
        {
          "output_type": "stream",
          "name": "stdout",
          "text": [
            "3/3 [==============================] - 0s 4ms/step - loss: 0.1423 - accuracy: 0.9750\n"
          ]
        },
        {
          "output_type": "execute_result",
          "data": {
            "text/plain": [
              "[0.14229266345500946, 0.9750000238418579]"
            ]
          },
          "metadata": {},
          "execution_count": 61
        }
      ]
    },
    {
      "cell_type": "code",
      "metadata": {
        "id": "M3CYo1V1UO5i",
        "colab": {
          "base_uri": "https://localhost:8080/"
        },
        "outputId": "c1c7efe9-3e0e-4d3b-94a9-ce94a09521a5"
      },
      "source": [
        "model.evaluate(testing_padded,testing_labels)"
      ],
      "id": "M3CYo1V1UO5i",
      "execution_count": 62,
      "outputs": [
        {
          "output_type": "stream",
          "name": "stdout",
          "text": [
            "1/1 [==============================] - 0s 21ms/step - loss: 0.4589 - accuracy: 0.8000\n"
          ]
        },
        {
          "output_type": "execute_result",
          "data": {
            "text/plain": [
              "[0.45894375443458557, 0.800000011920929]"
            ]
          },
          "metadata": {},
          "execution_count": 62
        }
      ]
    },
    {
      "cell_type": "code",
      "metadata": {
        "id": "57c4fe4c",
        "colab": {
          "base_uri": "https://localhost:8080/"
        },
        "outputId": "36fc6b06-1d90-4e5e-c2a7-764718f629cf"
      },
      "source": [
        "result = model.predict(testing_padded)\n",
        "result"
      ],
      "id": "57c4fe4c",
      "execution_count": 63,
      "outputs": [
        {
          "output_type": "execute_result",
          "data": {
            "text/plain": [
              "array([[0.92296845],\n",
              "       [0.771906  ],\n",
              "       [0.9241229 ],\n",
              "       [0.76619804],\n",
              "       [0.75826925],\n",
              "       [0.6770832 ],\n",
              "       [0.8617759 ],\n",
              "       [0.3444609 ],\n",
              "       [0.92696524],\n",
              "       [0.88940084],\n",
              "       [0.95519054],\n",
              "       [0.9194034 ],\n",
              "       [0.7079452 ],\n",
              "       [0.6976383 ],\n",
              "       [0.793251  ],\n",
              "       [0.69799125],\n",
              "       [0.30395555],\n",
              "       [0.8496145 ],\n",
              "       [0.89176166],\n",
              "       [0.7307522 ]], dtype=float32)"
            ]
          },
          "metadata": {},
          "execution_count": 63
        }
      ]
    },
    {
      "cell_type": "code",
      "metadata": {
        "id": "e970bdd4",
        "colab": {
          "base_uri": "https://localhost:8080/"
        },
        "outputId": "374ab3e5-96be-4613-eb80-a3966d877ab1"
      },
      "source": [
        "for i,j in zip(result,testing_sentences):\n",
        "    print(j.strip())\n",
        "    print(i)\n",
        "    print()"
      ],
      "id": "e970bdd4",
      "execution_count": 64,
      "outputs": [
        {
          "output_type": "stream",
          "name": "stdout",
          "text": [
            "sout taw thar tway thay kya san kwar\n",
            "[0.92296845]\n",
            "\n",
            "athin kyee kyee ngl ngl goe pyat shone pee phin cha khan lite ya mha ar thi thar pyae tae ma a loe nyi soe shar yae yuu sa chat\n",
            "[0.771906]\n",
            "\n",
            "khway kite tine nout hlae pyan pyay mae\n",
            "[0.9241229]\n",
            "\n",
            "m shat ma kyout sat thar lote\n",
            "[0.76619804]\n",
            "\n",
            "lu lain lu nyar tway ka\n",
            "[0.75826925]\n",
            "\n",
            "kya naw lu kg pr\n",
            "[0.6770832]\n",
            "\n",
            "lu mhan yin lu lo thi par tal\n",
            "[0.8617759]\n",
            "\n",
            "mhan tar pyine mal\n",
            "[0.3444609]\n",
            "\n",
            "min doh ko yay kan htl mhr khaung hnit ml\n",
            "[0.92696524]\n",
            "\n",
            "ngar yay poh kyan tae hnate sat nee tway shi thayy tl\n",
            "[0.88940084]\n",
            "\n",
            "nga hkway ma soe lay tway ko kyit tl\n",
            "[0.95519054]\n",
            "\n",
            "lu yote lu nyant tway kyarr htel bayin lote lote\n",
            "[0.9194034]\n",
            "\n",
            "mmsp\n",
            "[0.7079452]\n",
            "\n",
            "di lo khan sar ya kyayy so yin min doh di achain ma pyaw par naing bu\n",
            "[0.6976383]\n",
            "\n",
            "yine tar ma pyine bu out tann sar tway yae\n",
            "[0.793251]\n",
            "\n",
            "min doh khan sar kye sann kwar\n",
            "[0.69799125]\n",
            "\n",
            "nyan chin shin mal\n",
            "[0.30395555]\n",
            "\n",
            "min doh ta ko line ko yay laung cha pee shot tite ml\n",
            "[0.8496145]\n",
            "\n",
            "lu htel mhar ngar doe ma par bu\n",
            "[0.89176166]\n",
            "\n",
            "yote ta yat car tway yout lr pee min doh shi tae tite khan ko lr wine ml kwr\n",
            "[0.7307522]\n",
            "\n"
          ]
        }
      ]
    },
    {
      "cell_type": "code",
      "metadata": {
        "id": "7526c74d"
      },
      "source": [
        "predicted_results=[]\n",
        "for i in result:\n",
        "    if(i<0.5):\n",
        "        predicted_results.append(0)\n",
        "    else:\n",
        "        predicted_results.append(1)"
      ],
      "id": "7526c74d",
      "execution_count": 65,
      "outputs": []
    },
    {
      "cell_type": "code",
      "metadata": {
        "id": "0607b770"
      },
      "source": [
        "count = 0\n",
        "siz = len(predicted_results)\n",
        "for i in range(siz):\n",
        "    if testing_labels.iloc[i] != predicted_results[i]:\n",
        "        count += 1\n",
        "accu = (siz - count) / siz * 100"
      ],
      "id": "0607b770",
      "execution_count": 66,
      "outputs": []
    },
    {
      "cell_type": "code",
      "metadata": {
        "id": "7jgbzA7IYgln"
      },
      "source": [
        "y= testing_labels\n",
        "ypredicted = predicted_results"
      ],
      "id": "7jgbzA7IYgln",
      "execution_count": 67,
      "outputs": []
    },
    {
      "cell_type": "code",
      "metadata": {
        "colab": {
          "base_uri": "https://localhost:8080/"
        },
        "id": "FhsIl5k0LqLb",
        "outputId": "676714ac-2b03-4010-e129-25308ebfe28e"
      },
      "source": [
        "y"
      ],
      "id": "FhsIl5k0LqLb",
      "execution_count": 68,
      "outputs": [
        {
          "output_type": "execute_result",
          "data": {
            "text/plain": [
              "29    1\n",
              "28    1\n",
              "11    1\n",
              "18    1\n",
              "20    1\n",
              "50    0\n",
              "25    1\n",
              "6     0\n",
              "71    1\n",
              "76    1\n",
              "1     1\n",
              "16    1\n",
              "64    1\n",
              "79    0\n",
              "5     1\n",
              "75    1\n",
              "9     0\n",
              "72    1\n",
              "12    0\n",
              "37    0\n",
              "Name: labels, dtype: int64"
            ]
          },
          "metadata": {},
          "execution_count": 68
        }
      ]
    },
    {
      "cell_type": "code",
      "metadata": {
        "colab": {
          "base_uri": "https://localhost:8080/"
        },
        "id": "qCU7wSBdL36T",
        "outputId": "39a428d3-83fb-448d-e0b9-8f9e771180b8"
      },
      "source": [
        "ypredicted"
      ],
      "id": "qCU7wSBdL36T",
      "execution_count": 69,
      "outputs": [
        {
          "output_type": "execute_result",
          "data": {
            "text/plain": [
              "[1, 1, 1, 1, 1, 1, 1, 0, 1, 1, 1, 1, 1, 1, 1, 1, 0, 1, 1, 1]"
            ]
          },
          "metadata": {},
          "execution_count": 69
        }
      ]
    },
    {
      "cell_type": "code",
      "metadata": {
        "id": "8OQR2L9tXn8C"
      },
      "source": [
        "def confusion_matrix_and_score_pth(y,ypredicted):\n",
        "    \n",
        "    #The lenth of y and ypredicted must have the same length\n",
        "    if(len(y)!=len(ypredicted)):\n",
        "        return \"Found input variables with inconsistent numbers of samples\",len(y),len(ypredicted)\n",
        "    \n",
        "    uniq_element     = (set(y)|set(ypredicted))\n",
        "    \n",
        "    \n",
        "    #Creating a dictionary in order to be sure in adding to the matrix\n",
        "    dictionary = {}\n",
        "    count = 0\n",
        "    \n",
        "    for _ in uniq_element:\n",
        "        dictionary[_] = count\n",
        "        count = count+1\n",
        "    \n",
        "    #Changing class labels\n",
        "    y = [dictionary.get(_) for _ in y]\n",
        "    ypredicted = [dictionary.get(_) for _ in ypredicted]\n",
        "    #print(y)\n",
        "    #print(ypredicted)\n",
        "    \n",
        "    #Declaring necessary variables\n",
        "    length          = len(uniq_element)\n",
        "    confusion_matrix = np.zeros((length,length))\n",
        "    correct_tokens   = 0\n",
        "    recall           = 0\n",
        "    precision        = 0\n",
        "    \n",
        "    #Creating confusion matrix\n",
        "    for i,j in zip(y,ypredicted):\n",
        "        confusion_matrix[i][j] += 1\n",
        "        \n",
        "    if (len(uniq_element)==2):\n",
        "        tn = confusion_matrix[0][0]\n",
        "        fp = confusion_matrix[0][1]\n",
        "        fn = confusion_matrix[1][0]\n",
        "        tp = confusion_matrix[1][1]\n",
        "        print(\"Input Class Labels:Class labels for this method\",dictionary)\n",
        "        print('Confusion matrix is')\n",
        "        print(confusion_matrix)\n",
        "        print('accuracy:',(tp+tn)/(tp+tn+fp+fn))\n",
        "        precision = (tp)/(tp+fp)\n",
        "        print('precision:',precision)\n",
        "        recall = (tp)/(tp+fn)\n",
        "        print('recall:',recall)\n",
        "        #print(';;;;;;',recall+precision)\n",
        "        f_score = (2*recall*precision)/(recall+precision)\n",
        "        print('f1 score:',f_score)\n",
        "     \n",
        "    #Calculating accuracy, recall and f1 score\n",
        "    else:\n",
        "        vertical_summation = confusion_matrix.sum(axis=0)\n",
        "        horizontal_summation = confusion_matrix.sum(axis=1)\n",
        "        for _ in range (confusion_matrix.shape[0]):\n",
        "            correct_tokens += confusion_matrix[_][_]\n",
        "            if (vertical_summation[_] != 0):\n",
        "                recall += confusion_matrix[_][_]/vertical_summation[_]\n",
        "            if (horizontal_summation[_]  != 0):\n",
        "                precision += confusion_matrix[_][_]/horizontal_summation[_]\n",
        "    \n",
        "        accuracy  = correct_tokens/np.sum(confusion_matrix)\n",
        "        recall    = recall/confusion_matrix.shape[0]\n",
        "        precision = precision/confusion_matrix.shape[0]\n",
        "    \n",
        "        f_score = (2*recall*precision)/(recall+precision)\n",
        "        print(\"Input Class Labels:Class labels for this method\",dictionary)\n",
        "        print('Confusion matrix is')\n",
        "        print(confusion_matrix)\n",
        "        print(\"Accuracy Score is \", accuracy*100,'%')\n",
        "        print(\"Recall Score is \", recall*100,'%')\n",
        "        print(\"Precision Score is \", precision*100,'%')\n",
        "        print(\"FScore is \", f_score*100,'%')"
      ],
      "id": "8OQR2L9tXn8C",
      "execution_count": 70,
      "outputs": []
    },
    {
      "cell_type": "code",
      "metadata": {
        "colab": {
          "base_uri": "https://localhost:8080/"
        },
        "id": "ds63jzLyXqUF",
        "outputId": "384f7dec-6f01-4f8f-e8ac-ba066491823a"
      },
      "source": [
        "confusion_matrix_and_score_pth(testing_labels,predicted_results)"
      ],
      "id": "ds63jzLyXqUF",
      "execution_count": 71,
      "outputs": [
        {
          "output_type": "stream",
          "name": "stdout",
          "text": [
            "Input Class Labels:Class labels for this method {0: 0, 1: 1}\n",
            "Confusion matrix is\n",
            "[[ 2.  4.]\n",
            " [ 0. 14.]]\n",
            "accuracy: 0.8\n",
            "precision: 0.7777777777777778\n",
            "recall: 1.0\n",
            "f1 score: 0.8750000000000001\n"
          ]
        }
      ]
    },
    {
      "cell_type": "code",
      "metadata": {
        "colab": {
          "base_uri": "https://localhost:8080/",
          "height": 562
        },
        "id": "qEEWiIa0DTM6",
        "outputId": "6ef188b0-f017-4907-c4d3-3430bc6219df"
      },
      "source": [
        "import matplotlib.pyplot as plt\n",
        "#-----------------------------------------------------------\n",
        "# Retrieve a list of list results on training and test data\n",
        "# sets for each training epoch\n",
        "#-----------------------------------------------------------\n",
        "acc      = history.history[     'accuracy' ]\n",
        "#val_acc  = history.history[ 'val_accuracy' ]\n",
        "loss     = history.history[    'loss' ]\n",
        "#val_loss = history.history['val_loss' ]\n",
        "\n",
        "epochs   = range(len(acc)) # Get number of epochs\n",
        "#------------------------------------------------\n",
        "# Plot training and validation accuracy per epoch\n",
        "#------------------------------------------------\n",
        "plt.plot  ( epochs,     acc , label ='accuracy')\n",
        "#plt.plot  ( epochs, val_acc,label='val_accuracy' )\n",
        "plt.title ('Training and validation accuracy')\n",
        "plt.figure()\n",
        "\n",
        "#------------------------------------------------\n",
        "# Plot training and validation loss per epoch\n",
        "#------------------------------------------------\n",
        "plt.plot  ( epochs,     loss, label='accuracy')\n",
        "#plt.plot  ( epochs, val_loss, label='val_accuracy')\n",
        "plt.title ('Training and validation loss')"
      ],
      "id": "qEEWiIa0DTM6",
      "execution_count": 72,
      "outputs": [
        {
          "output_type": "execute_result",
          "data": {
            "text/plain": [
              "Text(0.5, 1.0, 'Training and validation loss')"
            ]
          },
          "metadata": {},
          "execution_count": 72
        },
        {
          "output_type": "display_data",
          "data": {
            "image/png": "[encoded data removed]",
            "text/plain": [
              "<Figure size 432x288 with 1 Axes>"
            ]
          },
          "metadata": {
            "needs_background": "light"
          }
        },
        {
          "output_type": "display_data",
          "data": {
            "image/png": "[encoded data removed]",
            "text/plain": [
              "<Figure size 432x288 with 1 Axes>"
            ]
          },
          "metadata": {
            "needs_background": "light"
          }
        }
      ]
    },
    {
      "cell_type": "code",
      "metadata": {
        "id": "yrfiqognHGX2",
        "colab": {
          "base_uri": "https://localhost:8080/"
        },
        "outputId": "e4b6058f-5334-4abe-d397-2377ce1b3ec1"
      },
      "source": [
        "test_Word = st.text_input('Please type a sentence.')\n"
      ],
      "id": "yrfiqognHGX2",
      "execution_count": 73,
      "outputs": [
        {
          "output_type": "stream",
          "name": "stderr",
          "text": [
            "2021-11-26 18:25:01.327 \n",
            "  \u001b[33m\u001b[1mWarning:\u001b[0m to view this Streamlit app on a browser, run it with the following\n",
            "  command:\n",
            "\n",
            "    streamlit run /usr/local/lib/python3.7/dist-packages/ipykernel_launcher.py [ARGUMENTS]\n"
          ]
        }
      ]
    }
  ]
}